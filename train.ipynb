{
 "cells": [
  {
   "cell_type": "markdown",
   "metadata": {},
   "source": [
    "# Import required packages"
   ]
  },
  {
   "cell_type": "code",
   "execution_count": 29,
   "metadata": {},
   "outputs": [],
   "source": [
    "from __future__ import absolute_import, division, print_function\n",
    "import tensorflow as tf\n",
    "#from tensorflow import keras\n",
    "from keras import backend\n",
    "from keras import regularizers, Sequential\n",
    "from keras.layers import Embedding, GlobalAveragePooling1D, Dense\n",
    "from keras.callbacks import Callback, EarlyStopping\n",
    "from keras.optimizers import SGD, Adam\n",
    "from keras.models import load_model, model_from_json\n",
    "from keras.utils import CustomObjectScope\n",
    "from keras.initializers import glorot_uniform\n",
    "import numpy as np\n",
    "from numpy import ndarray\n",
    "from sklearn.preprocessing import LabelEncoder\n",
    "from sklearn.metrics import roc_auc_score\n",
    "from sklearn.utils import class_weight\n",
    "from cophi_toolbox import preprocessing\n",
    "import pandas as pd\n",
    "from hatesonar import Sonar\n",
    "sonar = Sonar()\n",
    "from collections import defaultdict\n",
    "from operator import itemgetter\n",
    "import bisect\n",
    "import matplotlib.pyplot as plt\n",
    "import pickle\n",
    "\n",
    "from model import SiameseBiLSTM\n",
    "from inputHandler import word_embed_meta_data, create_test_data\n",
    "from config import siamese_config\n",
    "from time import time\n",
    "import pandas as pd\n",
    "from sklearn.model_selection import train_test_split\n",
    "from gensim.models import KeyedVectors\n",
    "from keras.models import Model\n",
    "from keras.layers import Input, Embedding, LSTM, Dense, Flatten, Activation, RepeatVector, Permute, Lambda, \\\n",
    "    Bidirectional, TimeDistributed, Dropout, Conv1D, GlobalMaxPool1D\n",
    "from keras.layers.merge import multiply, concatenate\n",
    "import keras.backend as K\n",
    "from util import make_w2v_embeddings, split_and_zero_padding, ManDist\n",
    "import tensorflow as tf\n",
    "import numpy as np\n",
    "import re"
   ]
  },
  {
   "cell_type": "code",
   "execution_count": 30,
   "metadata": {},
   "outputs": [],
   "source": [
    "def f1_score(y_true, y_pred):\n",
    "\n",
    "    # Count positive samples.\n",
    "    c1 = K.sum(K.round(K.clip(y_true * y_pred, 0, 1)))\n",
    "    c2 = K.sum(K.round(K.clip(y_pred, 0, 1)))\n",
    "    c3 = K.sum(K.round(K.clip(y_true, 0, 1)))\n",
    "\n",
    "    # If there are no true samples, fix the F1 score at 0.\n",
    "    if c3 == 0:\n",
    "        return 0\n",
    "\n",
    "    # How many selected items are relevant?\n",
    "    precision = c1 / c2\n",
    "\n",
    "    # How many relevant items are selected?\n",
    "    recall = c1 / c3\n",
    "\n",
    "    # Calculate f1_score\n",
    "    f1_score = 2 * (precision * recall) / (precision + recall)\n",
    "    return f1_score "
   ]
  },
  {
   "cell_type": "markdown",
   "metadata": {},
   "source": [
    "# Train sentiment model with yelp data"
   ]
  },
  {
   "cell_type": "code",
   "execution_count": 31,
   "metadata": {},
   "outputs": [],
   "source": [
    "data_path = 'yelp.csv'\n",
    "data = pd.read_csv(data_path)\n",
    "indx = data[(data.stars != 5)&(data.stars != 1)].index\n",
    "data = data.drop(indx)\n",
    "data = data.reset_index(drop=True)"
   ]
  },
  {
   "cell_type": "code",
   "execution_count": 32,
   "metadata": {},
   "outputs": [],
   "source": [
    "max_length = 30\n",
    "all_words = []\n",
    "toxic_sentences = []\n",
    "attitude_list = []\n",
    "sentences_list = []\n",
    "for i in range(len(data.index)):\n",
    "    sentences = re.split(r'[.!]',data['text'][i].replace('\\n',''))\n",
    "    if data['stars'][i] ==1:\n",
    "        attitude = 0\n",
    "    elif data['stars'][i] ==5:\n",
    "        attitude = 1\n",
    "    for sentence in sentences:\n",
    "        words = list(preprocessing.tokenize(sentence))\n",
    "        if len(words) >= 3:\n",
    "            all_words += words\n",
    "            confid_score = sonar.ping(text=sentence)['classes'][1]['confidence']\n",
    "            if  confid_score > 0.8:\n",
    "                toxic_sentences.append(sentence)\n",
    "            attitude_list.append(attitude)\n",
    "            sentences_list.append(sentence)\n",
    "encoder = LabelEncoder()\n",
    "encoder.fit(all_words)\n",
    "label_encoder_dict = defaultdict(LabelEncoder) \n",
    "for key, encoder in label_encoder_dict.items():\n",
    "    classes = np.array(encoder.classes_).tolist()\n",
    "    bisect.insort_left(classes, 'UNK')\n",
    "    encoder.classes_ = classes\n",
    "vocab_size = len(encoder.classes_)"
   ]
  },
  {
   "cell_type": "code",
   "execution_count": 33,
   "metadata": {},
   "outputs": [],
   "source": [
    "toxic_df = pd.DataFrame(toxic_sentences,columns=['Toxic'])\n",
    "toxic_df.to_csv('toxic.csv',index=False)"
   ]
  },
  {
   "cell_type": "code",
   "execution_count": 34,
   "metadata": {},
   "outputs": [],
   "source": [
    "X_sentiment = []\n",
    "for sentence in sentences_list:\n",
    "    words = list(preprocessing.tokenize(sentence))\n",
    "    if len(words) >= 3:\n",
    "        try:\n",
    "            words = words[:max_length]\n",
    "        except:\n",
    "            pass\n",
    "        words_idx = np.array(encoder.transform(words))\n",
    "        arr = np.full(max_length, 0)\n",
    "        arr[:len(words)] = words_idx\n",
    "        X_sentiment.append(arr)\n",
    "X_sentiment = np.array(X_sentiment)\n",
    "X_sentiment_label = np.array(attitude_list)"
   ]
  },
  {
   "cell_type": "code",
   "execution_count": 35,
   "metadata": {},
   "outputs": [],
   "source": [
    "encoder_dict = {'encoder': encoder, 'X_sentiment': X_sentiment, 'X_sentiment_label': X_sentiment_label}\n",
    "with open('encoder.pickle', 'wb') as handle:\n",
    "    pickle.dump(encoder_dict, handle, protocol=pickle.HIGHEST_PROTOCOL)"
   ]
  },
  {
   "cell_type": "code",
   "execution_count": 36,
   "metadata": {},
   "outputs": [],
   "source": [
    "class EarlyStoppingByLossVal(Callback):\n",
    "    def __init__(self, monitor='loss', value=0.01, verbose=0):\n",
    "        super(Callback, self).__init__()\n",
    "        self.monitor = monitor\n",
    "        self.value = value\n",
    "        self.verbose = verbose\n",
    "\n",
    "    def on_epoch_end(self, epoch, logs={}):\n",
    "        current = logs.get(self.monitor)\n",
    "        if current is None:\n",
    "            print(\"Early stopping requires %s available!\" % self.monitor)\n",
    "            exit()\n",
    "\n",
    "        if current < self.value:\n",
    "            if self.verbose > 0:\n",
    "                print(\"Epoch %05d: early stopping THR\" % epoch)\n",
    "            self.model.stop_training = True\n",
    "earlyStopping=EarlyStopping(monitor='val_loss', patience=3, verbose=0, mode='auto')"
   ]
  },
  {
   "cell_type": "code",
   "execution_count": 37,
   "metadata": {},
   "outputs": [],
   "source": [
    "model = Sequential()\n",
    "model.add(Embedding(vocab_size, 100))\n",
    "#model_toxic.add(GlobalAveragePooling1D())\n",
    "model.add(Bidirectional(LSTM(50,dropout = 0.5, recurrent_dropout =0.5)))\n",
    "model.add(Dense(1, activation='sigmoid'))\n",
    "model.compile(optimizer=Adam(lr=1e-4),loss='binary_crossentropy',metrics=['accuracy',f1_score])"
   ]
  },
  {
   "cell_type": "code",
   "execution_count": 38,
   "metadata": {},
   "outputs": [
    {
     "name": "stdout",
     "output_type": "stream",
     "text": [
      "Train on 31059 samples, validate on 3451 samples\n",
      "Epoch 1/20\n",
      "31059/31059 [==============================] - 61s 2ms/step - loss: 0.5562 - acc: 0.7646 - f1_score: 0.8575 - val_loss: 0.5114 - val_acc: 0.7879 - val_f1_score: 0.8705\n",
      "Epoch 2/20\n",
      "31059/31059 [==============================] - 53s 2ms/step - loss: 0.5114 - acc: 0.7807 - f1_score: 0.8758 - val_loss: 0.4863 - val_acc: 0.7879 - val_f1_score: 0.8705\n",
      "Epoch 3/20\n",
      "31059/31059 [==============================] - 54s 2ms/step - loss: 0.4667 - acc: 0.7823 - f1_score: 0.8766 - val_loss: 0.4416 - val_acc: 0.7890 - val_f1_score: 0.8708\n",
      "Epoch 4/20\n",
      "31059/31059 [==============================] - 54s 2ms/step - loss: 0.4199 - acc: 0.8002 - f1_score: 0.8846 - val_loss: 0.4224 - val_acc: 0.8134 - val_f1_score: 0.8820\n",
      "Epoch 5/20\n",
      "31059/31059 [==============================] - 54s 2ms/step - loss: 0.3878 - acc: 0.8208 - f1_score: 0.8932 - val_loss: 0.4140 - val_acc: 0.8224 - val_f1_score: 0.8855\n",
      "Epoch 6/20\n",
      "31059/31059 [==============================] - 53s 2ms/step - loss: 0.3601 - acc: 0.8408 - f1_score: 0.9026 - val_loss: 0.4093 - val_acc: 0.8235 - val_f1_score: 0.8851\n",
      "Epoch 7/20\n",
      "31059/31059 [==============================] - 54s 2ms/step - loss: 0.3365 - acc: 0.8513 - f1_score: 0.9073 - val_loss: 0.4042 - val_acc: 0.8270 - val_f1_score: 0.8855\n",
      "Epoch 8/20\n",
      "31059/31059 [==============================] - 54s 2ms/step - loss: 0.3194 - acc: 0.8626 - f1_score: 0.9135 - val_loss: 0.4058 - val_acc: 0.8258 - val_f1_score: 0.8845\n",
      "Epoch 9/20\n",
      "31059/31059 [==============================] - 54s 2ms/step - loss: 0.3024 - acc: 0.8711 - f1_score: 0.9184 - val_loss: 0.4089 - val_acc: 0.8247 - val_f1_score: 0.8832\n",
      "Epoch 10/20\n",
      "31059/31059 [==============================] - 54s 2ms/step - loss: 0.2899 - acc: 0.8788 - f1_score: 0.9231 - val_loss: 0.4165 - val_acc: 0.8244 - val_f1_score: 0.8828\n"
     ]
    }
   ],
   "source": [
    "history = model.fit(X_sentiment,\n",
    "            X_sentiment_label,\n",
    "            validation_split=0.1,\n",
    "            callbacks=[earlyStopping],\n",
    "            epochs=20,\n",
    "            batch_size=64,\n",
    "            class_weight = 'auto')"
   ]
  },
  {
   "cell_type": "code",
   "execution_count": 39,
   "metadata": {},
   "outputs": [
    {
     "data": {
      "image/png": "[encoded data removed]",
      "text/plain": [
       "<matplotlib.figure.Figure at 0x7f00f26aa438>"
      ]
     },
     "metadata": {},
     "output_type": "display_data"
    }
   ],
   "source": [
    "history_dict = history.history\n",
    "acc = history_dict['acc']\n",
    "val_acc = history_dict['val_acc']\n",
    "loss = history_dict['loss']\n",
    "val_loss = history_dict['val_loss']\n",
    "epochs = range(1, len(acc) + 1)\n",
    "plt.plot(epochs, loss, 'r', label='Training loss')\n",
    "plt.plot(epochs, val_loss, 'b', label='Validation loss')\n",
    "plt.title('Training and validation loss')\n",
    "plt.xlabel('Epochs')\n",
    "plt.ylabel('Loss')\n",
    "plt.legend()\n",
    "plt.show()"
   ]
  },
  {
   "cell_type": "code",
   "execution_count": 40,
   "metadata": {},
   "outputs": [
    {
     "data": {
      "image/png": "[encoded data removed]",
      "text/plain": [
       "<matplotlib.figure.Figure at 0x7f03fd383a58>"
      ]
     },
     "metadata": {},
     "output_type": "display_data"
    }
   ],
   "source": [
    "plt.clf()  \n",
    "plt.plot(epochs, acc, 'r', label='Training acc')\n",
    "plt.plot(epochs, val_acc, 'b', label='Validation acc')\n",
    "plt.title('Training and validation accuracy')\n",
    "plt.xlabel('Epochs')\n",
    "plt.ylabel('Accuracy')\n",
    "plt.legend()\n",
    "plt.show()"
   ]
  },
  {
   "cell_type": "code",
   "execution_count": 41,
   "metadata": {},
   "outputs": [],
   "source": [
    "model_json = model.to_json()\n",
    "with open(\"sentiment_model.json\", \"w\") as json_file:\n",
    "    json_file.write(model_json)\n",
    "model.save_weights(\"sentiment_model.h5\")"
   ]
  },
  {
   "cell_type": "markdown",
   "metadata": {},
   "source": [
    "# Train similarity model with quora data"
   ]
  },
  {
   "cell_type": "code",
   "execution_count": 42,
   "metadata": {},
   "outputs": [
    {
     "name": "stdout",
     "output_type": "stream",
     "text": [
      "50000 sentences embedded.\n",
      "100000 sentences embedded.\n",
      "150000 sentences embedded.\n",
      "200000 sentences embedded.\n",
      "250000 sentences embedded.\n",
      "300000 sentences embedded.\n",
      "350000 sentences embedded.\n",
      "400000 sentences embedded.\n",
      "__________________________________________________________________________________________________\n",
      "Layer (type)                    Output Shape         Param #     Connected to                     \n",
      "==================================================================================================\n",
      "input_3 (InputLayer)            (None, 10)           0                                            \n",
      "__________________________________________________________________________________________________\n",
      "input_4 (InputLayer)            (None, 10)           0                                            \n",
      "__________________________________________________________________________________________________\n",
      "embedding_5 (Embedding)         (None, 10, 300)      25801800    input_3[0][0]                    \n",
      "__________________________________________________________________________________________________\n",
      "embedding_6 (Embedding)         (None, 10, 300)      25801800    input_4[0][0]                    \n",
      "__________________________________________________________________________________________________\n",
      "bidirectional_7 (Bidirectional) (None, 10, 100)      140400      embedding_5[0][0]                \n",
      "__________________________________________________________________________________________________\n",
      "bidirectional_9 (Bidirectional) (None, 10, 100)      140400      embedding_6[0][0]                \n",
      "__________________________________________________________________________________________________\n",
      "bidirectional_8 (Bidirectional) (None, 10, 100)      60400       bidirectional_7[0][0]            \n",
      "__________________________________________________________________________________________________\n",
      "bidirectional_10 (Bidirectional (None, 10, 100)      60400       bidirectional_9[0][0]            \n",
      "__________________________________________________________________________________________________\n",
      "time_distributed_3 (TimeDistrib (None, 10, 1)        101         bidirectional_8[0][0]            \n",
      "__________________________________________________________________________________________________\n",
      "time_distributed_4 (TimeDistrib (None, 10, 1)        101         bidirectional_10[0][0]           \n",
      "__________________________________________________________________________________________________\n",
      "flatten_3 (Flatten)             (None, 10)           0           time_distributed_3[0][0]         \n",
      "__________________________________________________________________________________________________\n",
      "flatten_4 (Flatten)             (None, 10)           0           time_distributed_4[0][0]         \n",
      "__________________________________________________________________________________________________\n",
      "activation_3 (Activation)       (None, 10)           0           flatten_3[0][0]                  \n",
      "__________________________________________________________________________________________________\n",
      "activation_4 (Activation)       (None, 10)           0           flatten_4[0][0]                  \n",
      "__________________________________________________________________________________________________\n",
      "repeat_vector_3 (RepeatVector)  (None, 100, 10)      0           activation_3[0][0]               \n",
      "__________________________________________________________________________________________________\n",
      "repeat_vector_4 (RepeatVector)  (None, 100, 10)      0           activation_4[0][0]               \n",
      "__________________________________________________________________________________________________\n",
      "permute_3 (Permute)             (None, 10, 100)      0           repeat_vector_3[0][0]            \n",
      "__________________________________________________________________________________________________\n",
      "permute_4 (Permute)             (None, 10, 100)      0           repeat_vector_4[0][0]            \n",
      "__________________________________________________________________________________________________\n",
      "multiply_3 (Multiply)           (None, 10, 100)      0           bidirectional_8[0][0]            \n",
      "                                                                 permute_3[0][0]                  \n",
      "__________________________________________________________________________________________________\n",
      "multiply_4 (Multiply)           (None, 10, 100)      0           bidirectional_10[0][0]           \n",
      "                                                                 permute_4[0][0]                  \n",
      "__________________________________________________________________________________________________\n",
      "lambda_3 (Lambda)               (None, 100)          0           multiply_3[0][0]                 \n",
      "__________________________________________________________________________________________________\n",
      "lambda_4 (Lambda)               (None, 100)          0           multiply_4[0][0]                 \n",
      "__________________________________________________________________________________________________\n",
      "man_dist_2 (ManDist)            (None, 1)            0           lambda_3[0][0]                   \n",
      "                                                                 lambda_4[0][0]                   \n",
      "__________________________________________________________________________________________________\n",
      "concatenate_2 (Concatenate)     (None, 201)          0           lambda_3[0][0]                   \n",
      "                                                                 lambda_4[0][0]                   \n",
      "                                                                 man_dist_2[0][0]                 \n",
      "__________________________________________________________________________________________________\n",
      "dense_14 (Dense)                (None, 16)           3232        concatenate_2[0][0]              \n",
      "__________________________________________________________________________________________________\n",
      "dense_13 (Dense)                (None, 4)            68          dense_14[0][0]                   \n",
      "__________________________________________________________________________________________________\n",
      "dense_12 (Dense)                (None, 2)            10          dense_13[0][0]                   \n",
      "__________________________________________________________________________________________________\n",
      "dense_11 (Dense)                (None, 1)            3           dense_12[0][0]                   \n",
      "==================================================================================================\n",
      "Total params: 52,008,715\n",
      "Trainable params: 405,115\n",
      "Non-trainable params: 51,603,600\n",
      "__________________________________________________________________________________________________\n",
      "Train on 363861 samples, validate on 40429 samples\n",
      "Epoch 1/20\n",
      "363861/363861 [==============================] - 181s 498us/step - loss: 0.5648 - acc: 0.7140 - f1_score: 0.5213 - val_loss: 0.5288 - val_acc: 0.7391 - val_f1_score: 0.6039\n",
      "Epoch 2/20\n",
      "363861/363861 [==============================] - 168s 461us/step - loss: 0.5194 - acc: 0.7468 - f1_score: 0.6032 - val_loss: 0.5164 - val_acc: 0.7486 - val_f1_score: 0.6353\n",
      "Epoch 3/20\n",
      "363861/363861 [==============================] - 166s 456us/step - loss: 0.4992 - acc: 0.7593 - f1_score: 0.6289 - val_loss: 0.5028 - val_acc: 0.7585 - val_f1_score: 0.6542\n",
      "Epoch 4/20\n",
      "363861/363861 [==============================] - 167s 460us/step - loss: 0.4835 - acc: 0.7699 - f1_score: 0.6502 - val_loss: 0.4961 - val_acc: 0.7638 - val_f1_score: 0.6545\n",
      "Epoch 5/20\n",
      "363861/363861 [==============================] - 164s 452us/step - loss: 0.4705 - acc: 0.7777 - f1_score: 0.6655 - val_loss: 0.4958 - val_acc: 0.7626 - val_f1_score: 0.6630\n",
      "Epoch 6/20\n",
      "363861/363861 [==============================] - 166s 455us/step - loss: 0.4592 - acc: 0.7841 - f1_score: 0.6774 - val_loss: 0.4939 - val_acc: 0.7644 - val_f1_score: 0.6707\n",
      "Epoch 7/20\n",
      "363861/363861 [==============================] - 166s 456us/step - loss: 0.4491 - acc: 0.7898 - f1_score: 0.6882 - val_loss: 0.4888 - val_acc: 0.7680 - val_f1_score: 0.6662\n",
      "Epoch 8/20\n",
      "363861/363861 [==============================] - 164s 450us/step - loss: 0.4401 - acc: 0.7951 - f1_score: 0.6976 - val_loss: 0.4897 - val_acc: 0.7707 - val_f1_score: 0.6744\n"
     ]
    },
    {
     "name": "stdout",
     "output_type": "stream",
     "text": [
      "Epoch 9/20\n",
      "363861/363861 [==============================] - 162s 447us/step - loss: 0.4316 - acc: 0.7994 - f1_score: 0.7054 - val_loss: 0.4963 - val_acc: 0.7682 - val_f1_score: 0.6798\n",
      "Epoch 10/20\n",
      "363861/363861 [==============================] - 164s 451us/step - loss: 0.4242 - acc: 0.8037 - f1_score: 0.7131 - val_loss: 0.4935 - val_acc: 0.7704 - val_f1_score: 0.6809\n"
     ]
    }
   ],
   "source": [
    "TRAIN_CSV = './quora_train.csv'\n",
    "embedding_dim = 300\n",
    "max_seq_length = 10\n",
    "savepath = './en_SiameseLSTM.h5'\n",
    "\n",
    "\n",
    "embedding_dict = {}\n",
    "\n",
    "train_df = pd.read_csv(TRAIN_CSV)\n",
    "for q in ['question1', 'question2']:\n",
    "    train_df[q + '_n'] = train_df[q]\n",
    "\n",
    "train_df, embeddings = make_w2v_embeddings(embedding_dict, train_df, embedding_dim=embedding_dim)\n",
    "\n",
    "X = train_df[['question1_n', 'question2_n']]\n",
    "Y = train_df['is_duplicate']\n",
    "X_train, X_validation, Y_train, Y_validation = train_test_split(X, Y, test_size=0.1)\n",
    "X_train = split_and_zero_padding(X_train, max_seq_length)\n",
    "X_validation = split_and_zero_padding(X_validation, max_seq_length)\n",
    "\n",
    "\n",
    "Y_train = Y_train.values\n",
    "Y_validation = Y_validation.values\n",
    "\n",
    "assert X_train['left'].shape == X_train['right'].shape\n",
    "assert len(X_train['left']) == len(Y_train)\n",
    "\n",
    "\n",
    "\n",
    "def shared_model(_input):\n",
    "\n",
    "    embedded = Embedding(len(embeddings), embedding_dim, weights=[embeddings], input_shape=(max_seq_length,),\n",
    "                         trainable=False)(_input)\n",
    "\n",
    "    activations = Bidirectional(LSTM(n_hidden, return_sequences=True, dropout = 0.2, recurrent_dropout =0.2), merge_mode='concat')(embedded)\n",
    "    activations = Bidirectional(LSTM(n_hidden, return_sequences=True, dropout = 0.2, recurrent_dropout = 0.2), merge_mode='concat')(activations)\n",
    "\n",
    "    # dropout\n",
    "    #activations = Dropout(0.2)(activations)\n",
    "\n",
    "    # Attention\n",
    "    attention = TimeDistributed(Dense(1, activation='tanh'))(activations)\n",
    "    attention = Flatten()(attention)\n",
    "    attention = Activation('softmax')(attention)\n",
    "    attention = RepeatVector(n_hidden * 2)(attention)\n",
    "    attention = Permute([2, 1])(attention)\n",
    "    sent_representation = multiply([activations, attention])\n",
    "    sent_representation = Lambda(lambda xin: K.sum(xin, axis=1))(sent_representation)\n",
    "\n",
    "    # dropout\n",
    "    #sent_representation = Dropout(0.2)(sent_representation)\n",
    "\n",
    "    return sent_representation\n",
    "\n",
    "batch_size = 1024\n",
    "n_epoch = 20\n",
    "n_hidden = 50\n",
    "\n",
    "left_input = Input(shape=(max_seq_length,), dtype='float32')\n",
    "right_input = Input(shape=(max_seq_length,), dtype='float32')\n",
    "left_sen_representation = shared_model(left_input)\n",
    "right_sen_representation = shared_model(right_input)\n",
    "\n",
    "man_distance = ManDist()([left_sen_representation, right_sen_representation])\n",
    "sen_representation = concatenate([left_sen_representation, right_sen_representation, man_distance])\n",
    "similarity = Dense(1, activation='sigmoid')(Dense(2)(Dense(4)(Dense(16)(sen_representation))))\n",
    "model = Model(inputs=[left_input, right_input], outputs=[similarity])\n",
    "\n",
    "model.compile(loss='binary_crossentropy', optimizer='adam', metrics=['accuracy',f1_score])\n",
    "model.summary()\n",
    "\n",
    "history = model.fit([X_train['left'], X_train['right']], Y_train,\n",
    "                           batch_size=batch_size, callbacks=[earlyStopping], epochs=n_epoch,\n",
    "                           validation_data=([X_validation['left'], X_validation['right']], Y_validation))\n",
    "model.save(savepath)"
   ]
  },
  {
   "cell_type": "code",
   "execution_count": 43,
   "metadata": {},
   "outputs": [
    {
     "data": {
      "image/png": "[encoded data removed]",
      "text/plain": [
       "<matplotlib.figure.Figure at 0x7f00f2655278>"
      ]
     },
     "metadata": {},
     "output_type": "display_data"
    }
   ],
   "source": [
    "history_dict = history.history\n",
    "acc = history_dict['acc']\n",
    "val_acc = history_dict['val_acc']\n",
    "loss = history_dict['loss']\n",
    "val_loss = history_dict['val_loss']\n",
    "epochs = range(1, len(acc) + 1)\n",
    "plt.plot(epochs, loss, 'r', label='Training loss')\n",
    "plt.plot(epochs, val_loss, 'b', label='Validation loss')\n",
    "plt.title('Training and validation loss')\n",
    "plt.xlabel('Epochs')\n",
    "plt.ylabel('Loss')\n",
    "plt.legend()\n",
    "plt.show()"
   ]
  },
  {
   "cell_type": "code",
   "execution_count": 44,
   "metadata": {},
   "outputs": [
    {
     "data": {
      "image/png": "[encoded data removed]",
      "text/plain": [
       "<matplotlib.figure.Figure at 0x7f00f26ef748>"
      ]
     },
     "metadata": {},
     "output_type": "display_data"
    }
   ],
   "source": [
    "plt.clf()  \n",
    "plt.plot(epochs, acc, 'r', label='Training acc')\n",
    "plt.plot(epochs, val_acc, 'b', label='Validation acc')\n",
    "plt.title('Training and validation accuracy')\n",
    "plt.xlabel('Epochs')\n",
    "plt.ylabel('Accuracy')\n",
    "plt.legend()\n",
    "plt.show()"
   ]
  },
  {
   "cell_type": "code",
   "execution_count": 45,
   "metadata": {},
   "outputs": [],
   "source": [
    "json_file = open('sentiment_model.json', 'r')\n",
    "loaded_model_json = json_file.read()\n",
    "json_file.close()\n",
    "with CustomObjectScope({'GlorotUniform': glorot_uniform()}):\n",
    "    loaded_model_sentiment = model_from_json(loaded_model_json)\n",
    "    loaded_model_sentiment.load_weights('sentiment_model.h5')\n",
    "with open('encoder.pickle', 'rb') as handle:\n",
    "    unserialized_data = pickle.load(handle)\n",
    "encoder=unserialized_data['encoder']"
   ]
  },
  {
   "cell_type": "code",
   "execution_count": 46,
   "metadata": {},
   "outputs": [],
   "source": [
    "#senti should be 0 or 1, 0 is negative, 1 is positive\n",
    "def compareSim(input_sentence,model,datapath,senti):\n",
    "  \n",
    "    \n",
    "    #retrive reviews based on input sentiment\n",
    "    if senti==0:\n",
    "        datafile=datapath+'/yelp_0.txt'\n",
    "    elif senti==1:\n",
    "        datafile=datapath+'/yelp_1.txt'\n",
    "\n",
    "    with open(datafile) as f:\n",
    "        datayelp=f.readlines()\n",
    "\n",
    "    #data cleaning \n",
    "    for i in range(len(datayelp)):\n",
    "        datayelp[i] = datayelp[i].replace('.','').replace('\\n','').replace('!','')\n",
    "\n",
    "    # find the top 3 similar reviews\n",
    "    result_index=[]\n",
    "    test_sentence_pairs=[]\n",
    "    for i in range(len(datayelp)):\n",
    "        test_sentence=(input_sentence,datayelp[i])\n",
    "        test_sentence_pairs.append(test_sentence)\n",
    "\n",
    "\n",
    "    embedding_dict = {}\n",
    "\n",
    "    test_df = pd.DataFrame(test_sentence_pairs, columns = ['question1','question2'])\n",
    "    for q in ['question1', 'question2']:\n",
    "        test_df[q + '_n'] = test_df[q]\n",
    "\n",
    "    test_df, embeddings = make_w2v_embeddings(embedding_dict, test_df, embedding_dim=300)\n",
    "\n",
    "    X_test = split_and_zero_padding(test_df, 10)\n",
    "\n",
    "    assert X_test['left'].shape == X_test['right'].shape\n",
    "\n",
    "    preds = list(model.predict([X_test['left'], X_test['right']]))\n",
    "\n",
    "    results = [(x, y, z) for (x, y), z in zip(test_sentence_pairs, preds)]\n",
    "    results.sort(key=itemgetter(2), reverse=True)\n",
    "\n",
    "\n",
    "    return results[0:3]"
   ]
  },
  {
   "cell_type": "code",
   "execution_count": 47,
   "metadata": {},
   "outputs": [],
   "source": [
    "def check_senti(input_sentence):\n",
    "    words = list(preprocessing.tokenize(input_sentence))\n",
    "    word_idx = np.array([encoder.transform(words)])\n",
    "    \n",
    "    if loaded_model_sentiment.predict_proba(word_idx)>0.6:\n",
    "            senti = 1\n",
    "    else:\n",
    "            senti = 0\n",
    "\n",
    "    return senti\n",
    "\n",
    "def pred(input_sentence,model,datapath):\n",
    "    \n",
    "    class_value = sonar.ping(text=input_sentence)['top_class']\n",
    "    if class_value == 'offensive_language':\n",
    "        senti=check_senti(input_sentence)\n",
    "        results=compareSim(input_sentence,model,datapath,senti)\n",
    "    else:\n",
    "        results='NO TOXIC'\n",
    "    return results"
   ]
  },
  {
   "cell_type": "code",
   "execution_count": 48,
   "metadata": {},
   "outputs": [
    {
     "name": "stdout",
     "output_type": "stream",
     "text": [
      "0\n",
      "[('This place is fucking horrible', 'the service was ok , not the best not the worst ', array([0.9927481], dtype=float32)), ('This place is fucking horrible', 'do not eat the pastries ', array([0.9705785], dtype=float32)), ('This place is fucking horrible', \"it was thick and gooey and the flavor did n't wow \", array([0.9672185], dtype=float32))]\n"
     ]
    }
   ],
   "source": [
    "# test \n",
    "modelpath='./en_SiameseLSTM.h5'\n",
    "datapath='.'\n",
    "model = load_model(modelpath, custom_objects={\"ManDist\": ManDist,'f1_score':f1_score})\n",
    "input_sen='This place is fucking horrible'\n",
    "print(check_senti(input_sen))\n",
    "print(pred(input_sen,model,datapath))"
   ]
  }
 ],
 "metadata": {
  "kernelspec": {
   "display_name": "Python [conda env:deeplearning]",
   "language": "python",
   "name": "conda-env-deeplearning-py"
  },
  "language_info": {
   "codemirror_mode": {
    "name": "ipython",
    "version": 3
   },
   "file_extension": ".py",
   "mimetype": "text/x-python",
   "name": "python",
   "nbconvert_exporter": "python",
   "pygments_lexer": "ipython3",
   "version": "3.6.4"
  }
 },
 "nbformat": 4,
 "nbformat_minor": 2
}
